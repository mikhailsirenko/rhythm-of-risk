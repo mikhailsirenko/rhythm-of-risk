{
 "cells": [
  {
   "cell_type": "markdown",
   "metadata": {},
   "source": [
    "# Simple population - calls correlation analysis"
   ]
  },
  {
   "cell_type": "code",
   "execution_count": 8,
   "metadata": {},
   "outputs": [],
   "source": [
    "import geopandas as gpd\n",
    "import matplotlib.pyplot as plt\n",
    "from scipy.stats import spearmanr, kendalltau\n",
    "import pandas as pd\n",
    "import numpy as np"
   ]
  },
  {
   "cell_type": "code",
   "execution_count": 9,
   "metadata": {},
   "outputs": [],
   "source": [
    "# Load the prepared data\n",
    "cities = ['Den Haag', 'Rotterdam', 'Amsterdam']\n",
    "resolution = '1000'\n",
    "id_column = f'c28992r{resolution}'\n",
    "time_step = 1\n",
    "weekday_grids = {}\n",
    "\n",
    "for city in cities:\n",
    "    weekday_grid = pd.read_csv(\n",
    "            f\"../data/processed/p2000/{city}/spatiotemporal_grid_time_step={time_step}.csv\")\n",
    "    weekday_grid.drop(columns=[\"geometry\"],inplace=True)\n",
    "    weekday_grids[city] = weekday_grid"
   ]
  },
  {
   "cell_type": "code",
   "execution_count": 10,
   "metadata": {},
   "outputs": [
    {
     "data": {
      "image/png": "[encoded data removed]",
      "text/plain": [
       "<Figure size 350x245 with 1 Axes>"
      ]
     },
     "metadata": {},
     "output_type": "display_data"
    }
   ],
   "source": [
    "# Make a scatter plot\n",
    "fig, ax = plt.subplots(figsize=(5, 3.5))\n",
    "d = {'Den Haag' : '#4165c0',  'Rotterdam' : '#e770a2',  'Amsterdam' : '#5ac3be'}\n",
    "l = []\n",
    "ratio = []\n",
    "for city, color in d.items():\n",
    "    x = weekday_grids[city]['aantal_inwoners']\n",
    "    y = weekday_grids[city]['Total']\n",
    "    l.append([x, y])\n",
    "    ratio.append(y/(x/10000))\n",
    "    ax.scatter(x, y, color=color, label=city)\n",
    "ax.spines['right'].set_visible(False)\n",
    "ax.spines['top'].set_visible(False)\n",
    "ax.set_xlabel('Population')\n",
    "ax.set_ylabel('Ambulance calls')\n",
    "ax.legend();"
   ]
  },
  {
   "cell_type": "code",
   "execution_count": 11,
   "metadata": {},
   "outputs": [
    {
     "name": "stdout",
     "output_type": "stream",
     "text": [
      "Number of calls per 10,000 Den Haag inhabitants: 2.12\n",
      "Number of calls per 10,000 Rotterdam inhabitants: 2.22\n",
      "Number of calls per 10,000 Amsterdam inhabitants: 2.18\n"
     ]
    }
   ],
   "source": [
    "# Calculate the ratio of ambulance calls per 10,000 inhabitants\n",
    "cities = ['Den Haag', 'Rotterdam', 'Amsterdam']\n",
    "calls_per_capita = []\n",
    "for city in cities:\n",
    "    df = weekday_grids[city].copy()\n",
    "    df.set_index(id_column, inplace=True)\n",
    "    x = df['aantal_inwoners']\n",
    "    y = df['Total']\n",
    "    print(f'Number of calls per 10,000 {city} inhabitants:', round(y.sum()/(x.sum()/10000), 2))\n",
    "    calls_per_capita.append(y/(x/10000))\n",
    "calls_per_capita = pd.concat(calls_per_capita, axis=0)\n",
    "calls_per_capita.replace([np.inf, -np.inf], np.nan, inplace=True)\n",
    "calls_per_capita.fillna(0, inplace=True)"
   ]
  },
  {
   "cell_type": "code",
   "execution_count": 12,
   "metadata": {},
   "outputs": [
    {
     "data": {
      "text/plain": [
       "count    465.000000\n",
       "mean       4.303665\n",
       "std       12.662668\n",
       "min        0.000000\n",
       "25%        1.078749\n",
       "50%        1.813865\n",
       "75%        3.133903\n",
       "max      157.264957\n",
       "dtype: float64"
      ]
     },
     "execution_count": 12,
     "metadata": {},
     "output_type": "execute_result"
    }
   ],
   "source": [
    "calls_per_capita.describe()"
   ]
  },
  {
   "cell_type": "code",
   "execution_count": 13,
   "metadata": {},
   "outputs": [
    {
     "name": "stdout",
     "output_type": "stream",
     "text": [
      "Den Haag\n",
      "Spearman corr: 0.8249101631893871\n",
      "Kendall corr: 0.6368209876154016\n",
      "\n",
      "Rotterdam\n",
      "Spearman corr: 0.9026463249895198\n",
      "Kendall corr: 0.7268785049965646\n",
      "\n",
      "Amsterdam\n",
      "Spearman corr: 0.8988835652044328\n",
      "Kendall corr: 0.7143049317130781\n",
      "\n"
     ]
    }
   ],
   "source": [
    "cities = ['Den Haag', 'Rotterdam', 'Amsterdam']\n",
    "l = []\n",
    "for city in cities:\n",
    "    x = weekday_grids[city]['aantal_inwoners']\n",
    "    y = weekday_grids[city]['Total']\n",
    "    print(city)\n",
    "    print('Spearman corr:', spearmanr(x, y)[0])\n",
    "    print('Kendall corr:', kendalltau(x, y)[0])\n",
    "    print()"
   ]
  }
 ],
 "metadata": {
  "kernelspec": {
   "display_name": "ctx",
   "language": "python",
   "name": "python3"
  },
  "language_info": {
   "codemirror_mode": {
    "name": "ipython",
    "version": 3
   },
   "file_extension": ".py",
   "mimetype": "text/x-python",
   "name": "python",
   "nbconvert_exporter": "python",
   "pygments_lexer": "ipython3",
   "version": "3.12.3"
  },
  "orig_nbformat": 4
 },
 "nbformat": 4,
 "nbformat_minor": 2
}

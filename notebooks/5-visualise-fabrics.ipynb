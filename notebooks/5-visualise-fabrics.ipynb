{
 "cells": [
  {
   "cell_type": "code",
   "execution_count": 2,
   "metadata": {},
   "outputs": [],
   "source": [
    "%load_ext autoreload\n",
    "%autoreload 2"
   ]
  },
  {
   "cell_type": "code",
   "execution_count": 3,
   "metadata": {},
   "outputs": [],
   "source": [
    "import pandas as pd\n",
    "import geopandas as gpd\n",
    "from matplotlib import pyplot as plt\n",
    "import seaborn as sns\n",
    "from itertools import cycle\n",
    "import numpy as np\n",
    "from sklearn.preprocessing import MinMaxScaler\n",
    "from visualize import plot_radarchart"
   ]
  },
  {
   "cell_type": "markdown",
   "metadata": {},
   "source": [
    "## Social fabric (sociodemographics & housing)"
   ]
  },
  {
   "cell_type": "code",
   "execution_count": 4,
   "metadata": {},
   "outputs": [],
   "source": [
    "# Load prepared features\n",
    "X = pd.read_csv('../results/fabrics.csv', index_col=0)"
   ]
  },
  {
   "cell_type": "code",
   "execution_count": 5,
   "metadata": {},
   "outputs": [],
   "source": [
    "# Convert percentages to absolute numbers\n",
    "X['Dutch'] = X['Pct Dutch'].div(100).multiply(X['Residents'])\n",
    "X['Western'] = X['Pct Western'].div(100).multiply(X['Residents'])\n",
    "X['Non-western'] = X['Pct Non-western'].div(100).multiply(X['Residents'])\n",
    "\n",
    "# Drop percentages\n",
    "X.drop(columns=['Pct Dutch', 'Pct Western', 'Pct Non-western'], inplace=True)\n",
    "\n",
    "demographic_features = ['0-15 y.o.',\n",
    "                        '15-25 y.o.',\n",
    "                        '25-45 y.o.',\n",
    "                        '45-65 y.o.',\n",
    "                        '65+ y.o.',\n",
    "                        'Dutch',\n",
    "                        'Western',\n",
    "                        'Non-western',\n",
    "                        'One-person hh',\n",
    "                        'Multi-person hh w/o kids',\n",
    "                        'Single-parent hh',\n",
    "                        'Multi-person hh w kids',\n",
    "                        'Ppl w benefits',\n",
    "                        'Pct low-income hh',\n",
    "                        'Pct high-income hh',\n",
    "                        ]\n",
    "\n",
    "\n",
    "building_features = [\n",
    "    'Pct rented houses'\n",
    "]\n",
    "\n",
    "# Scale demographic features by total number of residents\n",
    "# Two last features are already percentages\n",
    "X[demographic_features[:-2]] = X[demographic_features[:-2]].div(X['Residents'], axis=0)\n",
    "X.fillna(0, inplace=True)\n",
    "\n",
    "# Save cluster labels\n",
    "cluster_labels = X[['label']].copy()\n",
    "\n",
    "# Select which features to use\n",
    "X = X[demographic_features + building_features].copy()"
   ]
  },
  {
   "cell_type": "code",
   "execution_count": 6,
   "metadata": {},
   "outputs": [],
   "source": [
    "# Scale features\n",
    "scaler = MinMaxScaler()\n",
    "X_scaled = scaler.fit_transform(X)\n",
    "X_scaled = pd.DataFrame(X_scaled, columns=X.columns, index=X.index)\n",
    "\n",
    "# Add cluster labels\n",
    "X_scaled = pd.merge(X_scaled, cluster_labels, left_index=True, right_index=True)"
   ]
  },
  {
   "cell_type": "code",
   "execution_count": 7,
   "metadata": {},
   "outputs": [],
   "source": [
    "# Rename and sort columns for better readability\n",
    "label_abbreviations = {\n",
    "    'One-person hh': '1-Person HH',\n",
    "    'Multi-person hh w/o kids': 'Multi-P HH (No Kids)',\n",
    "    'Single-parent hh': 'Single-Parent HH',\n",
    "    'Multi-person hh w kids': 'Multi-P HH w/ Kids',\n",
    "    'Ppl w benefits': 'Recipients of Soc. Benefits',\n",
    "    'Pct low-income hh': 'Low-Income HH',\n",
    "    'Pct rented houses': 'Rented Houses',\n",
    "}\n",
    "\n",
    "X_scaled.rename(columns=label_abbreviations, inplace=True)\n",
    "\n",
    "sorted_columns = ['Recipients of Soc. Benefits', \n",
    "                  'Low-Income HH', \n",
    "                  'Non-western', \n",
    "                  'Western', \n",
    "                  'Dutch',  \n",
    "                  'Single-Parent HH', \n",
    "                  'Multi-P HH w/ Kids', \n",
    "                  'Multi-P HH (No Kids)', \n",
    "                  '1-Person HH', \n",
    "                  '65+ y.o.', \n",
    "                  '45-65 y.o.', \n",
    "                  '25-45 y.o.', \n",
    "                  '15-25 y.o.', \n",
    "                  '0-15 y.o.', \n",
    "                  'Rented Houses',  \n",
    "                  'label']\n",
    "\n",
    "X_scaled = X_scaled[sorted_columns]"
   ]
  },
  {
   "cell_type": "code",
   "execution_count": 8,
   "metadata": {},
   "outputs": [],
   "source": [
    "# Use the same colors as for time series clustering\n",
    "my_colors = ['#FC2E20',\n",
    "             '#FD7F20',\n",
    "             '#1F77B4',\n",
    "             '#AEC7E8',\n",
    "             '#A89F91',\n",
    "             '#7E735F']"
   ]
  },
  {
   "cell_type": "code",
   "execution_count": 9,
   "metadata": {},
   "outputs": [],
   "source": [
    "df = X_scaled.copy()"
   ]
  },
  {
   "cell_type": "code",
   "execution_count": null,
   "metadata": {},
   "outputs": [],
   "source": [
    "plot_radarchart(df, my_colors, agg_type='median');"
   ]
  },
  {
   "cell_type": "markdown",
   "metadata": {},
   "source": [
    "## Urban fabric (distance to amenities)"
   ]
  },
  {
   "cell_type": "code",
   "execution_count": 11,
   "metadata": {},
   "outputs": [],
   "source": [
    "# Load prepared features\n",
    "X = pd.read_csv('../results/fabrics.csv', index_col=0)\n",
    "\n",
    "# Select which features to use\n",
    "distance_features = [\n",
    "    'Shopping',\n",
    "    'Cafe & restaurants',\n",
    "    'Entertainment, arts & culture',\n",
    "    'Childcare',\n",
    "    'Primary education',\n",
    "    'Secondary & higher education',\n",
    "    'National or provincial road',\n",
    "    'Train station',\n",
    "    'GP',\n",
    "    'Hospital 9-17',\n",
    "    'Hospital 24h',\n",
    "    'Pharmacy',\n",
    "    'GP station',\n",
    "    'Distance to centre'\n",
    "]\n",
    "\n",
    "# Save cluster labels\n",
    "cluster_labels = X[['label']].copy()\n",
    "\n",
    "X = X[distance_features].copy()\n",
    "X.rename(columns={'Distance to centre': 'City centre'}, inplace=True)"
   ]
  },
  {
   "cell_type": "code",
   "execution_count": 12,
   "metadata": {},
   "outputs": [],
   "source": [
    "# Scale features\n",
    "scaler = MinMaxScaler()\n",
    "X_scaled = scaler.fit_transform(X)\n",
    "X_scaled = pd.DataFrame(X_scaled, columns=X.columns, index=X.index)\n",
    "\n",
    "# Add cluster labels\n",
    "X_scaled = pd.merge(X_scaled, cluster_labels, left_index=True, right_index=True)"
   ]
  },
  {
   "cell_type": "code",
   "execution_count": 13,
   "metadata": {},
   "outputs": [],
   "source": [
    "my_colors = ['#FC2E20',\n",
    "             '#FD7F20',\n",
    "             '#1F77B4',\n",
    "             '#AEC7E8',\n",
    "             '#A89F91',\n",
    "             '#7E735F']"
   ]
  },
  {
   "cell_type": "code",
   "execution_count": null,
   "metadata": {},
   "outputs": [],
   "source": [
    "plot_radarchart(X_scaled, my_colors, agg_type='median');"
   ]
  }
 ],
 "metadata": {
  "kernelspec": {
   "display_name": "vuln",
   "language": "python",
   "name": "python3"
  },
  "language_info": {
   "codemirror_mode": {
    "name": "ipython",
    "version": 3
   },
   "file_extension": ".py",
   "mimetype": "text/x-python",
   "name": "python",
   "nbconvert_exporter": "python",
   "pygments_lexer": "ipython3",
   "version": "3.12.3"
  },
  "orig_nbformat": 4
 },
 "nbformat": 4,
 "nbformat_minor": 2
}

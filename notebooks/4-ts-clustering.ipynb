{
 "cells": [
  {
   "attachments": {},
   "cell_type": "markdown",
   "metadata": {},
   "source": [
    "# Does urban vulnerability form spatio-temporal patterns? "
   ]
  },
  {
   "cell_type": "code",
   "execution_count": null,
   "metadata": {},
   "outputs": [],
   "source": [
    "%load_ext autoreload\n",
    "%autoreload 2"
   ]
  },
  {
   "cell_type": "code",
   "execution_count": 34,
   "metadata": {},
   "outputs": [],
   "source": [
    "import pandas as pd\n",
    "import geopandas as gpd \n",
    "from matplotlib import pyplot as plt\n",
    "import matplotlib\n",
    "import numpy as np\n",
    "from scipy.spatial.distance import euclidean\n",
    "from sklearn.metrics import silhouette_score, davies_bouldin_score, calinski_harabasz_score\n",
    "from mycolorpy import colorlist as mcp\n",
    "from fastdtw import fastdtw\n",
    "from ema_workbench.analysis import clusterer\n",
    "\n",
    "from src.ts_clusterer import prepare_city_features, arrange_cluster_labels\n",
    "from src.visualizer import vis_cluster_lineplots, vis_clusters_maps"
   ]
  },
  {
   "cell_type": "code",
   "execution_count": 35,
   "metadata": {},
   "outputs": [],
   "source": [
    "scaled_data = pd.read_csv(f\"../data/processed/p2000/scaled_spatio_temporal_grid_time_step=4.csv\", index_col=0)\n",
    "borders = gpd.read_file(\"../data/processed/cbs/wijk_buurt_kaart/cities.json\")\n",
    "grid = gpd.read_file(\"../data/processed/cbs/kaart_met_statistieken/1000x1000.json\")"
   ]
  },
  {
   "cell_type": "markdown",
   "metadata": {},
   "source": [
    "## Clustering scaled calls with agglomerative clustering (round 1)"
   ]
  },
  {
   "cell_type": "code",
   "execution_count": null,
   "metadata": {},
   "outputs": [],
   "source": [
    "# Do clustering\n",
    "n_clusters = 16\n",
    "metric = \"euclidean\" # euclidean\n",
    "linkage = \"ward\" # ward\n",
    "data = scaled_data.values\n",
    "print('N clusters: ', n_clusters)\n",
    "print('Selected linkage: ', linkage)\n",
    "print('Selected metric: ', metric)\n",
    "\n",
    "clusters = clusterer.apply_agglomerative_clustering(data, n_clusters, metric=metric, linkage=linkage)\n",
    "\n",
    "# Assign labels\n",
    "data = scaled_data.copy()\n",
    "data['label'] = clusters\n",
    "\n",
    "# Re-arrange labels to be in order of increasing count\n",
    "data = arrange_cluster_labels(data)\n",
    "clusters = data['label'].values\n",
    "cluster_labels = data['label'].value_counts().index.values"
   ]
  },
  {
   "cell_type": "markdown",
   "metadata": {},
   "source": [
    "## Analyzing metrics"
   ]
  },
  {
   "cell_type": "code",
   "execution_count": null,
   "metadata": {},
   "outputs": [],
   "source": [
    "silhouette_scores = {}\n",
    "calinski_harabaz_scores = {}\n",
    "daviess_bouldin_scores = {}\n",
    "\n",
    "for i in range(2, 30):\n",
    "    clusters = clusterer.apply_agglomerative_clustering(data, i, metric=metric, linkage=linkage)\n",
    "    silhouette_scores[i] = silhouette_score(data, clusters, metric=metric)\n",
    "    calinski_harabaz_scores[i] = calinski_harabasz_score(data, clusters)\n",
    "    daviess_bouldin_scores[i] = davies_bouldin_score(data, clusters)\n",
    "\n",
    "all_metrics = pd.DataFrame([silhouette_scores, calinski_harabaz_scores, daviess_bouldin_scores]).T\n",
    "all_metrics.columns = ['Silhouette Score', 'Calinski-Harabasz', 'Davies-Bouldin']\n",
    "all_metrics.plot(subplots=True, figsize=(4, 7), layout=(3, 1), title=['Silhouette Score', 'Calinski-Harabasz', 'Davies-Bouldin'], legend=False)\n",
    "for ax in plt.gcf().axes:\n",
    "    ax.spines['top'].set_visible(False)\n",
    "    ax.spines['right'].set_visible(False)\n",
    "for ax in plt.gcf().axes:\n",
    "    ax.xaxis.set_major_locator(plt.MaxNLocator(10))\n",
    "# plt.savefig('../report/figures/appendix/sfig5.png', dpi=300, bbox_inches='tight')\n",
    "# all_metrics.to_csv('../report/tables/appendix/stab5.csv')"
   ]
  },
  {
   "cell_type": "code",
   "execution_count": 38,
   "metadata": {},
   "outputs": [],
   "source": [
    "all_metrics.index.name = 'N clusters'\n",
    "all_metrics.style.background_gradient(cmap='Blues', subset=['Silhouette Score'])\\\n",
    "                 .background_gradient(cmap='Greens', subset=['Calinski-Harabasz'])\\\n",
    "                 .background_gradient(cmap='Reds', subset=['Davies-Bouldin'])\\\n",
    "                 .format(\"{:.2f}\", subset=['Silhouette Score', 'Davies-Bouldin'])\\\n",
    "                 .format(\"{:.0f}\", subset=['Calinski-Harabasz'])\\\n",
    "                 .to_latex(buf='../report/tables/appendix/stab5.tex',\n",
    "                        caption='.',\n",
    "                        position='H',\n",
    "                        convert_css=True,\n",
    "                        hrules=True,\n",
    "                        label='tab:cluster_metrics',\n",
    "                        sparse_index=True,\n",
    "                        sparse_columns=True,\n",
    "                        multicol_align=\"|c|\",\n",
    "                        position_float=\"centering\",\n",
    "                        )"
   ]
  },
  {
   "cell_type": "markdown",
   "metadata": {},
   "source": [
    "## Improving clustering results by manually analyzing the distance matrix (round 2) "
   ]
  },
  {
   "cell_type": "code",
   "execution_count": null,
   "metadata": {},
   "outputs": [],
   "source": [
    "k_min = 6\n",
    "k_max = 16\n",
    "df = data[data['label'].isin(np.arange(k_min, k_max + 1))].copy()\n",
    "\n",
    "# Calculate mean of each cluster\n",
    "means = data[data['label'].isin(np.arange(k_min))].groupby('label').mean()\n",
    "\n",
    "df['label'] = np.nan\n",
    "df['dist'] = np.nan\n",
    "\n",
    "# Calculate distance to each mean\n",
    "for i, row in df.iterrows():\n",
    "    min_dist = np.inf\n",
    "    label = np.nan\n",
    "    for j, mean in means.iterrows():\n",
    "        # Get euclidean distance\n",
    "        dist = euclidean(row[:-2], mean)\n",
    "        # dist = fastdtw(row[:-2].values.reshape(-1,1), mean.values.reshape(-1,1), dist=euclidean)[0]\n",
    "        if dist < min_dist:\n",
    "            min_dist = dist\n",
    "            label = j\n",
    "    df.loc[i, 'label'] = label\n",
    "    df.loc[i, 'dist'] = min_dist\n",
    "df['label'] = df['label'].astype(int)\n",
    "\n",
    "# Select only points that are close to the cluster\n",
    "dist_threshold = 1.25\n",
    "\n",
    "df = df[df['dist'] < dist_threshold]\n",
    "df"
   ]
  },
  {
   "cell_type": "code",
   "execution_count": 40,
   "metadata": {},
   "outputs": [],
   "source": [
    "top_n = data[data['label'].isin(cluster_labels[:k_min])].copy()\n",
    "y = pd.concat([top_n, df.drop(columns=['dist'])], axis=0)"
   ]
  },
  {
   "cell_type": "markdown",
   "metadata": {},
   "source": [
    "## Plotting"
   ]
  },
  {
   "cell_type": "code",
   "execution_count": 41,
   "metadata": {},
   "outputs": [],
   "source": [
    "my_colors = ['#FC2E20',\n",
    "             '#FD7F20',\n",
    "             '#1F77B4',\n",
    "             '#AEC7E8',\n",
    "             '#A89F91',\n",
    "             '#7E735F']"
   ]
  },
  {
   "cell_type": "code",
   "execution_count": null,
   "metadata": {},
   "outputs": [],
   "source": [
    "# Plot the new clusters\n",
    "vis_cluster_lineplots(y, k_min, cluster_labels[:k_min], random_colors=False, my_colors=my_colors)\n",
    "# plt.savefig('../report/figures/fig3.png', bbox_inches='tight', dpi=300)"
   ]
  },
  {
   "cell_type": "code",
   "execution_count": null,
   "metadata": {},
   "outputs": [],
   "source": [
    "vis_clusters_maps(y, grid, borders, k_min, k_max=k_min, random_colors=False, my_colors=my_colors, save_fig=False)"
   ]
  },
  {
   "cell_type": "code",
   "execution_count": 32,
   "metadata": {},
   "outputs": [],
   "source": [
    "y = pd.merge(grid[['c28992r1000', 'geometry']], y, left_on='c28992r1000', right_index=True, how='right')\n",
    "y.to_file('../results/cluster_labels.json', driver=\"GeoJSON\")"
   ]
  }
 ],
 "metadata": {
  "kernelspec": {
   "display_name": "test",
   "language": "python",
   "name": "python3"
  },
  "language_info": {
   "codemirror_mode": {
    "name": "ipython",
    "version": 3
   },
   "file_extension": ".py",
   "mimetype": "text/x-python",
   "name": "python",
   "nbconvert_exporter": "python",
   "pygments_lexer": "ipython3",
   "version": "3.12.3"
  },
  "orig_nbformat": 4,
  "vscode": {
   "interpreter": {
    "hash": "dbdae5b50e82c471d1674c63251976a2c23f63426d7c96d8ba4f941f049fed8a"
   }
  }
 },
 "nbformat": 4,
 "nbformat_minor": 2
}
